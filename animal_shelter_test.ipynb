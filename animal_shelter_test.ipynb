{
 "cells": [
  {
   "cell_type": "code",
   "execution_count": 1,
   "id": "68c733c5",
   "metadata": {},
   "outputs": [],
   "source": [
    "from animal_shelter import AnimalShelter\n",
    "\n",
    "# Instantiate the class\n",
    "shelter = AnimalShelter(\"root\", \"KPdFsW8nv8\", \"nv-desktop-services.apporto.com\", 32355, \"animal_shelter\", \"austin_animals\")"
   ]
  },
  {
   "cell_type": "code",
   "execution_count": 2,
   "id": "a917db26",
   "metadata": {},
   "outputs": [
    {
     "name": "stdout",
     "output_type": "stream",
     "text": [
      "Insert success: True\n"
     ]
    }
   ],
   "source": [
    "# Test create method\n",
    "new_animal = {\n",
    "    \"animal_id\": \"A123456\",\n",
    "    \"name\": \"Buddy\",\n",
    "    \"breed\": \"Labrador Retriever\",\n",
    "    \"age\": 5\n",
    "}\n",
    "\n",
    "result = shelter.create(new_animal)\n",
    "print(f\"Insert success: {result}\")"
   ]
  },
  {
   "cell_type": "code",
   "execution_count": 3,
   "id": "6eaa8814",
   "metadata": {},
   "outputs": [
    {
     "name": "stdout",
     "output_type": "stream",
     "text": [
      "[{'_id': ObjectId('670755bc80ad4fd8d37b3cf9'), 'animal_id': 'A123456', 'name': 'Buddy', 'breed': 'Labrador Retriever', 'age': 5}]\n"
     ]
    }
   ],
   "source": [
    "# Test read method\n",
    "query = {\"animal_id\": \"A123456\"}\n",
    "animals = shelter.read(query)\n",
    "print(animals)"
   ]
  },
  {
   "cell_type": "code",
   "execution_count": 4,
   "id": "5d55cbe0",
   "metadata": {},
   "outputs": [
    {
     "name": "stdout",
     "output_type": "stream",
     "text": [
      "Update Result: 1\n"
     ]
    }
   ],
   "source": [
    "# Test Update\n",
    "update_result = shelter.update({\"name\": \"Buddy\"}, {\"age\": 3})\n",
    "print(f\"Update Result: {update_result}\")"
   ]
  },
  {
   "cell_type": "code",
   "execution_count": 5,
   "id": "3a63da1e",
   "metadata": {},
   "outputs": [
    {
     "name": "stdout",
     "output_type": "stream",
     "text": [
      "Delete Result: 1\n"
     ]
    }
   ],
   "source": [
    "# Test Delete\n",
    "delete_result = shelter.delete({\"name\": \"Buddy\"})\n",
    "print(f\"Delete Result: {delete_result}\")"
   ]
  },
  {
   "cell_type": "code",
   "execution_count": null,
   "id": "57a20a81",
   "metadata": {},
   "outputs": [],
   "source": []
  }
 ],
 "metadata": {
  "kernelspec": {
   "display_name": "Python 3 (ipykernel)",
   "language": "python",
   "name": "python3"
  },
  "language_info": {
   "codemirror_mode": {
    "name": "ipython",
    "version": 3
   },
   "file_extension": ".py",
   "mimetype": "text/x-python",
   "name": "python",
   "nbconvert_exporter": "python",
   "pygments_lexer": "ipython3",
   "version": "3.9.12"
  }
 },
 "nbformat": 4,
 "nbformat_minor": 5
}
